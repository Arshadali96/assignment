{
 "cells": [
  {
   "cell_type": "markdown",
   "metadata": {},
   "source": [
    "# Question 1:\n",
    "Define Object Oriented Programming Language?\n",
    "\n",
    "Object-Oriented Programming Language:\n",
    "An OOPL (object-oriented programming language) is a programming language that is based on the object-oriented programming model explained above. Examples of object-oriented programming languages are C++, C#, Java, Python, Simula, and Smalltalk.\n",
    "When programming in an object-oriented programming language, you should keep the following four key concepts in mind.\n",
    "Encapsulation - The grouping of related functions and data (variables) together into an object to help reduce complexity and allow parts of the code to be reused.\n",
    "Abstraction - Show only the essentials to reduce the abstract of change.\n",
    "Inheritance - Eliminate redundant code by inheriting functions and data from other classes.\n",
    "Polymorphism - Change how an object function depending on the data or class.\n",
    "\n"
   ]
  },
  {
   "cell_type": "markdown",
   "metadata": {},
   "source": [
    "# Question 2:\n",
    "List down the Benefits of OOP?\n",
    "1. Re-usability\n",
    "It means reusing some facilities rather than building it again and again. This is done with the use of a class. We can use it ‘n’ number of times as per our need.\n",
    "2. Data Redundancy\n",
    "This is a condition created at the place of data storage (you can say Databases)where the same piece of data is held in two separate places. So the data redundancy is one of the greatest advantages of OOP. If a user wants a similar functionality in multiple classes he/she can go ahead by writing common class definitions for the similar functionalities and inherit them.\n",
    "3. Code Maintenance\n",
    "This feature is more of a necessity for any programming languages, it helps users from doing re-work in many ways. It is always easy and time-saving to maintain and modify the existing codes with incorporating new changes into it.\n",
    "4. Security\n",
    "With the use of data hiding and abstraction mechanism, we are filtering out limited data to exposure which means we are maintaining security and providing necessary data to view.\n",
    "\n",
    "\n",
    "5. Design Benefits\n",
    "If you are practicing on OOPs the design benefit a user will get is in terms of designing and fixing things easily and eliminating the risks (if any). Here the Object Oriented Programs forces the designers to have a longer and extensive design phase, which results in better designs and fewer flaws. After a time when the program has reached some critical limits, it is easier to program all the non-OOP’s one separately.\n",
    "\n",
    "6. Better productivity\n",
    "with the above-mentioned facts of using the application definitely enhances its users overall productivity. This leads to more work done, finish a better program, having more inbuilt features and easier to read, write and maintain. An OOP programmer cans stitch new software objects to make completely new programs. A good number of libraries with useful functions in abundance make it possible.\n",
    "\n",
    "7. Easy troubleshooting\n",
    "lets witness some common issues or problems any developers face in their work.\n",
    "Is this the problem in the widget file?\n",
    "Is the problem is in the WhaleFlumper?\n",
    "Will I have to trudge through that ‘sewage.c’ file?\n",
    "Commenting on all these issues related to code.\n",
    "So, many a time it happens that something has gone wrong which later becomes so brainstorming for the developers to look where the error is. Relax! Working with OOP language you will know where to look for. This is the advantage of using encapsulation in OOP; all the objects are self-constrained. With this modality behavior, the IT teams get a lot of work benefits as they are now capable to work on multiple projects simultaneously with an advantage that there is no possibility of code duplicity.\n",
    "8. Polymorphism Flexibility\n",
    "Let’s see a scenario to better explain this behavior.You behave in a different way if the place or surrounding gets change. A person will behave like a customer if he is in a market, the same person will behave like a student if he is in a school and as a son/daughter if put in a house. Here we can see that the same person showing different behavior every time the surroundings are changed. This means polymorphism is flexibility and helps developers in a number of ways.\n",
    "•\tIt’s simplicity\n",
    "•\tExtensibility\n",
    "9. Problems solving\n",
    "Decomposing a complex problem into smaller chunks or discrete components is a good practice. OOP is specialized in this behavior, as it breaks down your software code into bite-sized – one object at a time. In doing this the broken components can be reused in solutions to different other problems (both less and more complex) or either they can be replaced by the future modules which relate to the same interface with implementations details.\n",
    "\n",
    "\n"
   ]
  },
  {
   "cell_type": "markdown",
   "metadata": {},
   "source": [
    "# Question 3:\n",
    "Differentiate between function and method?\n",
    "Difference between method and function\n",
    "Method is called by its name, but it is associated to an object (dependent).\n",
    "A method is implicitly passed the object on which it is invoked.\n",
    "It may or may not return any data.\n",
    "A method can operate on the data (instance variables) that is contained by the corresponding class\n",
    "Function is block of code that is also called by its name. (Independent)\n",
    "The function can have different parameters or may not have any at all. If any data (parameters) are passed, they are passed explicitly.\n",
    "It may or may not return any data.\n",
    "Function does not deal with Class and its instance concept.\n",
    "Simply, function and method both look similar as they perform in almost similar way, but the key difference is the concept of ‘Class and its Object‘.\n",
    "Functions can be called only by its name, as it is defined independently. But methods can’t be called by its name only, we need to invoke the class by a reference of that class in which it is defined, i.e. method is defined within a class and hence they are dependent on that class.\n",
    "\n"
   ]
  },
  {
   "cell_type": "markdown",
   "metadata": {},
   "source": [
    "# Question 4:\n",
    "Define the following terms:\n",
    "Class\n",
    "A class is an entity that determines how an object will behave and what the object will contain. In other words, it is a blueprint or a set of instruction to build a specific type of object.\n",
    "2. Object\n",
    "An object is nothing but a self-contained component which consists of methods and properties to make a particular type of data useful. Object determines the behavior of the class. When you send a message to an object, you are asking the object to invoke or execute one of its methods.From a programming point of view, an object can be a data structure, a variable or a function. It has a memory location allocated. The object is designed as class hierarchies\n",
    "3. Attribute\n",
    "Class attributes belong to the class itself they will be shared by all the instances. Such attributes are defined in the class body parts usually at the top, for legibility.\n",
    "Instance Attributes Unlike class attributes, instance attributes are not shared by objects. Every object has its own copy of the instance attribute (In case of class attributes all object refer to single copy).To list the attributes of an instance/object, we have two functions:-\n",
    "\n",
    "1. vars()- This function displays the attribute of an instance in the form of an dictionary.\n",
    "2. dir()- This function displays more attributes than vars function, as it is not limited to instance. It displays the class attributes as well.\n",
    "4. Behavior\n",
    "A class's behavior determines how an instance of that class operates; for example, how it will \"react\" if asked to do something by another class or object or if its internal state changes. Behavior is the only way objects can do anything to themselves or have anything done to them.\n"
   ]
  },
  {
   "cell_type": "code",
   "execution_count": 92,
   "metadata": {},
   "outputs": [
    {
     "name": "stdout",
     "output_type": "stream",
     "text": [
      "Sammy black 2010.\n",
      "Stevie blue  2019.\n"
     ]
    }
   ],
   "source": [
    "# Question 5\n",
    "class car:\n",
    "    def __init__(self, name):\n",
    "        self.name = name\n",
    "\n",
    "    def Honda(self):\n",
    "        print(self.name + \" black 2010.\")\n",
    "\n",
    "    def KIA(self):\n",
    "        print(self.name + \" blue  2019.\")\n",
    "\n",
    "def main():\n",
    "    H = car(\"Sammy\")\n",
    "    H.Honda()\n",
    "    K = car(\"Stevie\")\n",
    "    K.KIA()\n",
    "\n",
    "if __name__ == \"__main__\":\n",
    "  main()\n"
   ]
  },
  {
   "cell_type": "code",
   "execution_count": null,
   "metadata": {},
   "outputs": [],
   "source": []
  }
 ],
 "metadata": {
  "kernelspec": {
   "display_name": "Python 3",
   "language": "python",
   "name": "python3"
  },
  "language_info": {
   "codemirror_mode": {
    "name": "ipython",
    "version": 3
   },
   "file_extension": ".py",
   "mimetype": "text/x-python",
   "name": "python",
   "nbconvert_exporter": "python",
   "pygments_lexer": "ipython3",
   "version": "3.7.4"
  }
 },
 "nbformat": 4,
 "nbformat_minor": 2
}
