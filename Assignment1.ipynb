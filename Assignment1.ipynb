{
 "cells": [
  {
   "cell_type": "code",
   "execution_count": 13,
   "metadata": {},
   "outputs": [
    {
     "name": "stdout",
     "output_type": "stream",
     "text": [
      "Twinkle, twinkle, little star, \n",
      "\tHow I wonder what you are! \n",
      "\t\tUp above the world so high,\n",
      "\t\tLike a diamond in the sky. \n",
      "Twinkle, twinkle, little star, \n",
      "\tHow I wonder what you are!\n"
     ]
    }
   ],
   "source": [
    "Poem=\"Twinkle, twinkle, little star, \\n\\tHow I wonder what you are!\\n\\t\\tUp above the world so high,\\n\\t\\tLike a diamond in the sky. \\nTwinkle, twinkle, little star, \\n\\tHow I wonder what you are!\"\n",
    "print (Poem)"
   ]
  },
  {
   "cell_type": "code",
   "execution_count": 17,
   "metadata": {},
   "outputs": [
    {
     "name": "stdout",
     "output_type": "stream",
     "text": [
      "Python version which I using is :\n",
      "3.7.4 (default, Aug  9 2019, 18:34:13) [MSC v.1915 64 bit (AMD64)]\n"
     ]
    }
   ],
   "source": [
    "import sys\n",
    "print(\"Python version which I using is :\")\n",
    "print (sys.version)"
   ]
  },
  {
   "cell_type": "code",
   "execution_count": 23,
   "metadata": {},
   "outputs": [
    {
     "name": "stdout",
     "output_type": "stream",
     "text": [
      "Current Date and Time : \n",
      "10-31-19 01:02\n"
     ]
    }
   ],
   "source": [
    "import datetime\n",
    "calender = datetime.datetime.now()\n",
    "print (\"Current Date and Time : \")\n",
    "print (now.strftime(\"%m-%d-%y %H:%M\"))"
   ]
  },
  {
   "cell_type": "code",
   "execution_count": 14,
   "metadata": {},
   "outputs": [
    {
     "name": "stdin",
     "output_type": "stream",
     "text": [
      " Please Enter the radius of a circle:  5\n"
     ]
    },
    {
     "name": "stdout",
     "output_type": "stream",
     "text": [
      "Area of circle \t 78.5\n"
     ]
    }
   ],
   "source": [
    "\n",
    "radius = float(input(' Please Enter the radius of a circle: '))\n",
    "area = 3.14* radius * radius\n",
    "\n",
    "print(\"Area of circle \\t \" + str(area) )"
   ]
  },
  {
   "cell_type": "code",
   "execution_count": 16,
   "metadata": {},
   "outputs": [
    {
     "name": "stdin",
     "output_type": "stream",
     "text": [
      "Enter your First Name :  Arshad\n",
      "Enter your Last Name :  Ali\n"
     ]
    },
    {
     "name": "stdout",
     "output_type": "stream",
     "text": [
      "reversing this be like \tAli Arshad\n"
     ]
    }
   ],
   "source": [
    "f_name = input(\"Enter your First Name : \")\n",
    "l_name = input(\"Enter your Last Name : \")\n",
    "print (\"reversing this be like \\t\" + l_name + \" \" + f_name)"
   ]
  },
  {
   "cell_type": "code",
   "execution_count": 28,
   "metadata": {},
   "outputs": [
    {
     "name": "stdin",
     "output_type": "stream",
     "text": [
      "Enter your First Name Arshad\n",
      "enter your last Name Ali\n"
     ]
    },
    {
     "name": "stdout",
     "output_type": "stream",
     "text": [
      "Arshad Ali\n",
      "\n",
      "ilA dahsrA\n"
     ]
    }
   ],
   "source": [
    "Fname=input(\"Enter your First Name\")\n",
    "Lname =input(\"enter your last Name\")\n",
    "print (Fname + \" \" + Lname)\n",
    "list_words= list(reversed(Fname + \" \"  + Lname ))\n",
    "print(\"\")\n",
    "print(\"\".join(list_words))"
   ]
  },
  {
   "cell_type": "code",
   "execution_count": 32,
   "metadata": {},
   "outputs": [
    {
     "name": "stdin",
     "output_type": "stream",
     "text": [
      "enter your id py00636\n",
      "enter your name Arshad Ali\n"
     ]
    },
    {
     "name": "stdout",
     "output_type": "stream",
     "text": [
      "py00636\t Arshad Ali\n"
     ]
    }
   ],
   "source": [
    "s1=input(\"enter your id\")\n",
    "s2=input(\"enter your name\")\n",
    "\n",
    "print ( s1 + \"\\t \" + s2 )"
   ]
  },
  {
   "cell_type": "code",
   "execution_count": null,
   "metadata": {},
   "outputs": [],
   "source": []
  },
  {
   "cell_type": "code",
   "execution_count": null,
   "metadata": {},
   "outputs": [],
   "source": []
  }
 ],
 "metadata": {
  "kernelspec": {
   "display_name": "Python 3",
   "language": "python",
   "name": "python3"
  },
  "language_info": {
   "codemirror_mode": {
    "name": "ipython",
    "version": 3
   },
   "file_extension": ".py",
   "mimetype": "text/x-python",
   "name": "python",
   "nbconvert_exporter": "python",
   "pygments_lexer": "ipython3",
   "version": "3.7.4"
  }
 },
 "nbformat": 4,
 "nbformat_minor": 4
}
